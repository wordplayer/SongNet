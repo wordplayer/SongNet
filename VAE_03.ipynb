{
 "cells": [
  {
   "cell_type": "code",
   "execution_count": 1,
   "metadata": {},
   "outputs": [
    {
     "name": "stdout",
     "output_type": "stream",
     "text": [
      "Defaulting to user installation because normal site-packages is not writeable\n",
      "Requirement already up-to-date: tensorflow-probability in /home/ssbose/.local/lib/python3.7/site-packages (0.10.0)\n",
      "Requirement already satisfied, skipping upgrade: cloudpickle>=1.2.2 in /home/ssbose/.local/lib/python3.7/site-packages (from tensorflow-probability) (1.4.1)\n",
      "Requirement already satisfied, skipping upgrade: six>=1.10.0 in /opt/conda/lib/python3.7/site-packages (from tensorflow-probability) (1.12.0)\n",
      "Requirement already satisfied, skipping upgrade: decorator in /opt/conda/lib/python3.7/site-packages (from tensorflow-probability) (4.4.0)\n",
      "Requirement already satisfied, skipping upgrade: gast>=0.3.2 in /home/ssbose/.local/lib/python3.7/site-packages (from tensorflow-probability) (0.3.3)\n",
      "Requirement already satisfied, skipping upgrade: numpy>=1.13.3 in /opt/conda/lib/python3.7/site-packages (from tensorflow-probability) (1.16.4)\n",
      "Defaulting to user installation because normal site-packages is not writeable\n",
      "Requirement already satisfied: batchup in /home/ssbose/.local/lib/python3.7/site-packages (0.2.3)\n",
      "Requirement already satisfied: tables in /home/ssbose/.local/lib/python3.7/site-packages (from batchup) (3.6.1)\n",
      "Requirement already satisfied: scipy in /home/ssbose/.local/lib/python3.7/site-packages (from batchup) (1.4.1)\n",
      "Requirement already satisfied: six in /opt/conda/lib/python3.7/site-packages (from batchup) (1.12.0)\n",
      "Requirement already satisfied: joblib in /opt/conda/lib/python3.7/site-packages (from batchup) (0.13.2)\n",
      "Requirement already satisfied: numpy in /opt/conda/lib/python3.7/site-packages (from batchup) (1.16.4)\n",
      "Requirement already satisfied: numexpr>=2.6.2 in /opt/conda/lib/python3.7/site-packages (from tables->batchup) (2.6.9)\n"
     ]
    }
   ],
   "source": [
    "!python -m pip install --upgrade tensorflow-probability\n",
    "import tensorflow as tf\n",
    "import numpy as np\n",
    "from numpy import save\n",
    "import matplotlib.pyplot as plt\n",
    "from tensorflow.keras import backend as K\n",
    "from tensorflow import keras\n",
    "from tensorflow.keras import layers, models\n",
    "from sklearn.model_selection import train_test_split\n",
    "from sklearn.preprocessing import MinMaxScaler\n",
    "import pickle\n",
    "from IPython.display import Image\n",
    "\n",
    "import tensorflow_probability as tfp\n",
    "import tensorflow_probability.python.distributions as tfd\n",
    "import tensorflow_probability.python.layers as tfpl\n",
    "\n",
    "#!python -m pip install git+https://github.com/mwaskom/seaborn.git\n",
    "#import seaborn as sns\n",
    "#sns.set(rc={'figure.figsize':(11.7,8.27)})\n",
    "\n",
    "import json\n",
    "!python -m pip install batchup\n",
    "from batchup import data_source\n",
    "from collections import Counter\n",
    "from sklearn.cluster import KMeans, SpectralClustering"
   ]
  },
  {
   "cell_type": "markdown",
   "metadata": {},
   "source": [
    "## Step 1: Loading the datasets"
   ]
  },
  {
   "cell_type": "code",
   "execution_count": 2,
   "metadata": {},
   "outputs": [],
   "source": [
    "X_train = np.load('/datasets/home/21/321/ee228sp20ta1/G51/train_set.npy')\n",
    "X_valid = np.load('/datasets/home/21/321/ee228sp20ta1/G51/val_set.npy')"
   ]
  },
  {
   "cell_type": "markdown",
   "metadata": {},
   "source": [
    "## Step 2: Scaling and reshaping the datasets"
   ]
  },
  {
   "cell_type": "code",
   "execution_count": 3,
   "metadata": {},
   "outputs": [
    {
     "name": "stdout",
     "output_type": "stream",
     "text": [
      "(1440096, 216)\n",
      "(265248, 216)\n"
     ]
    }
   ],
   "source": [
    "x_train = X_train[:,:,:216].copy()\n",
    "x_train = x_train.reshape((X_train.shape[0]*X_train.shape[1],216))\n",
    "\n",
    "x_valid = X_valid[:,:,:216].copy()\n",
    "x_valid = x_valid.reshape((X_valid.shape[0]*X_valid.shape[1],216))\n",
    "\n",
    "print(x_train.shape)\n",
    "print(x_valid.shape)\n",
    "\n",
    "scaler = MinMaxScaler().fit(x_train) \n",
    "scaled_train = scaler.transform(x_train)\n",
    "scaled_valid = scaler.transform(x_valid)\n",
    "\n",
    "s_train_reshaped = scaled_train.reshape(15001,96,216,1)\n",
    "s_valid_reshaped = scaled_valid.reshape(2763,96,216,1)"
   ]
  },
  {
   "cell_type": "code",
   "execution_count": 4,
   "metadata": {},
   "outputs": [],
   "source": [
    "del X_train, X_valid, x_train, x_valid, scaled_train, scaled_valid"
   ]
  },
  {
   "cell_type": "code",
   "execution_count": 5,
   "metadata": {},
   "outputs": [],
   "source": [
    "train_dataset = tf.data.Dataset.from_tensor_slices((s_train_reshaped, s_train_reshaped))\n",
    "valid_dataset = tf.data.Dataset.from_tensor_slices((s_valid_reshaped, s_valid_reshaped))"
   ]
  },
  {
   "cell_type": "code",
   "execution_count": 6,
   "metadata": {},
   "outputs": [],
   "source": [
    "del s_train_reshaped"
   ]
  },
  {
   "cell_type": "markdown",
   "metadata": {},
   "source": [
    "## Step 3: Shuffling and splitting the dataset into batches for training"
   ]
  },
  {
   "cell_type": "code",
   "execution_count": 7,
   "metadata": {},
   "outputs": [],
   "source": [
    "BATCH_SIZE = 15\n",
    "SHUFFLE_BUFFER_SIZE = 100\n",
    "train_dataset = train_dataset.shuffle(SHUFFLE_BUFFER_SIZE).batch(BATCH_SIZE)\n",
    "valid_dataset = valid_dataset.batch(BATCH_SIZE)"
   ]
  },
  {
   "cell_type": "markdown",
   "metadata": {},
   "source": [
    "## Step 4: Defining the number of latent dimensions and generating the prior distribution"
   ]
  },
  {
   "cell_type": "code",
   "execution_count": 7,
   "metadata": {},
   "outputs": [],
   "source": [
    "encoded_size = 16 # dimensions of latent state\n",
    "prior = tfd.Independent(tfd.Normal(loc=tf.zeros(encoded_size), scale=1),reinterpreted_batch_ndims=1)"
   ]
  },
  {
   "cell_type": "markdown",
   "metadata": {},
   "source": [
    "## Step 5: Defining the architecture for the VAE"
   ]
  },
  {
   "cell_type": "code",
   "execution_count": 8,
   "metadata": {},
   "outputs": [
    {
     "name": "stdout",
     "output_type": "stream",
     "text": [
      "WARNING:tensorflow:From /home/ssbose/.local/lib/python3.7/site-packages/tensorflow/python/ops/linalg/linear_operator_lower_triangular.py:158: calling LinearOperator.__init__ (from tensorflow.python.ops.linalg.linear_operator) with graph_parents is deprecated and will be removed in a future version.\n",
      "Instructions for updating:\n",
      "Do not pass `graph_parents`.  They will  no longer be used.\n"
     ]
    }
   ],
   "source": [
    "encoder = keras.Sequential([\n",
    "    #layers.Lambda(lambda x: tf.cast(x, tf.float32) - 0.5),\n",
    "    layers.Conv2D(96, 3, padding=\"same\", input_shape = (96, 216, 1)),\n",
    "    layers.LeakyReLU(0.2),\n",
    "    layers.Dropout(0.2),\n",
    "    layers.MaxPooling2D((2, 2)),\n",
    "    layers.Conv2D(45, 3, activation=\"relu\", padding=\"same\"),\n",
    "    layers.LeakyReLU(0.2),\n",
    "    layers.Dropout(0.3),\n",
    "    layers.MaxPooling2D((2, 2)),\n",
    "    layers.Conv2D(16, (3, 3), activation='relu', padding='same'),\n",
    "    layers.LeakyReLU(0.2),\n",
    "    layers.Dropout(0.4),\n",
    "    layers.MaxPooling2D((2, 2)),\n",
    "    layers.Flatten(),\n",
    "    layers.Dense(tfpl.MultivariateNormalTriL.params_size(encoded_size)),\n",
    "    tfpl.MultivariateNormalTriL(encoded_size, activity_regularizer = tfpl.KLDivergenceRegularizer(prior, weight = 1.0)),\n",
    "])"
   ]
  },
  {
   "cell_type": "code",
   "execution_count": 9,
   "metadata": {},
   "outputs": [
    {
     "name": "stdout",
     "output_type": "stream",
     "text": [
      "<tensorflow.python.keras.layers.convolutional.Conv2D object at 0x7f164bcf6610>\n",
      "(None, 96, 216, 96)\n",
      "<tensorflow.python.keras.layers.advanced_activations.LeakyReLU object at 0x7f1625aa9ad0>\n",
      "(None, 96, 216, 96)\n",
      "<tensorflow.python.keras.layers.core.Dropout object at 0x7f1625aa9f10>\n",
      "(None, 96, 216, 96)\n",
      "<tensorflow.python.keras.layers.pooling.MaxPooling2D object at 0x7f164c15f790>\n",
      "(None, 48, 108, 96)\n",
      "<tensorflow.python.keras.layers.convolutional.Conv2D object at 0x7f1625ac64d0>\n",
      "(None, 48, 108, 45)\n",
      "<tensorflow.python.keras.layers.advanced_activations.LeakyReLU object at 0x7f1714090c90>\n",
      "(None, 48, 108, 45)\n",
      "<tensorflow.python.keras.layers.core.Dropout object at 0x7f1625ac6c50>\n",
      "(None, 48, 108, 45)\n",
      "<tensorflow.python.keras.layers.pooling.MaxPooling2D object at 0x7f164be2d410>\n",
      "(None, 24, 54, 45)\n",
      "<tensorflow.python.keras.layers.convolutional.Conv2D object at 0x7f1625a4d150>\n",
      "(None, 24, 54, 16)\n",
      "<tensorflow.python.keras.layers.advanced_activations.LeakyReLU object at 0x7f1625a4d790>\n",
      "(None, 24, 54, 16)\n",
      "<tensorflow.python.keras.layers.core.Dropout object at 0x7f1625a4d910>\n",
      "(None, 24, 54, 16)\n",
      "<tensorflow.python.keras.layers.pooling.MaxPooling2D object at 0x7f1625a4dad0>\n",
      "(None, 12, 27, 16)\n",
      "<tensorflow.python.keras.layers.core.Flatten object at 0x7f1625a4de50>\n",
      "(None, 5184)\n",
      "<tensorflow.python.keras.layers.core.Dense object at 0x7f1625a4df10>\n",
      "(None, 152)\n",
      "<tensorflow_probability.python.layers.distribution_layer.MultivariateNormalTriL object at 0x7f1625a526d0>\n",
      "(None, 16) (None, 16)\n"
     ]
    }
   ],
   "source": [
    "## Run this cell if you need to review the encoder layer by layer\n",
    "for layer in encoder.layers:\n",
    "    print (layer)\n",
    "    if (type(layer.output) is tuple):\n",
    "        print (layer.output[0].shape, layer.output[1].shape)\n",
    "    else:\n",
    "        print (layer.output.shape)"
   ]
  },
  {
   "cell_type": "code",
   "execution_count": 10,
   "metadata": {},
   "outputs": [],
   "source": [
    "decoder = keras.Sequential([\n",
    "    layers.Input(shape = [encoded_size]),\n",
    "    layers.Reshape((1, 1, encoded_size)),\n",
    "    layers.Conv2DTranspose(16, 3, padding='valid'),\n",
    "    layers.LeakyReLU(0.2),\n",
    "    layers.Dropout(0.5),\n",
    "    layers.UpSampling2D(size=(2,3)),\n",
    "    layers.Conv2DTranspose(45, 3, padding='same'),\n",
    "    layers.LeakyReLU(0.2),\n",
    "    layers.Dropout(0.4),\n",
    "    layers.UpSampling2D(size=(2,1)),\n",
    "    layers.Conv2DTranspose(96, 3, activation='relu', padding='same'),\n",
    "    layers.LeakyReLU(0.2),\n",
    "    layers.Dropout(0.2),\n",
    "    layers.UpSampling2D(size=(2,1)),\n",
    "    layers.Flatten(),\n",
    "    #layers.Reshape((96, 216, 1)),\n",
    "    #layers.Conv2DTranspose(1, 3, activation = 'sigmoid', padding = 'same'),\n",
    "    tfpl.IndependentBernoulli((96, 216, 1), tfd.Bernoulli.logits)\n",
    "])"
   ]
  },
  {
   "cell_type": "code",
   "execution_count": 11,
   "metadata": {},
   "outputs": [
    {
     "name": "stdout",
     "output_type": "stream",
     "text": [
      "<tensorflow.python.keras.layers.core.Reshape object at 0x7f164bb6ea90>\n",
      "(None, 1, 1, 16)\n",
      "<tensorflow.python.keras.layers.convolutional.Conv2DTranspose object at 0x7f15e2147910>\n",
      "(None, 3, 3, 16)\n",
      "<tensorflow.python.keras.layers.advanced_activations.LeakyReLU object at 0x7f1625861ad0>\n",
      "(None, 3, 3, 16)\n",
      "<tensorflow.python.keras.layers.core.Dropout object at 0x7f16258d1490>\n",
      "(None, 3, 3, 16)\n",
      "<tensorflow.python.keras.layers.convolutional.UpSampling2D object at 0x7f1625861750>\n",
      "(None, 6, 9, 16)\n",
      "<tensorflow.python.keras.layers.convolutional.Conv2DTranspose object at 0x7f1625861510>\n",
      "(None, 6, 9, 45)\n",
      "<tensorflow.python.keras.layers.advanced_activations.LeakyReLU object at 0x7f162587c550>\n",
      "(None, 6, 9, 45)\n",
      "<tensorflow.python.keras.layers.core.Dropout object at 0x7f164bcf6ad0>\n",
      "(None, 6, 9, 45)\n",
      "<tensorflow.python.keras.layers.convolutional.UpSampling2D object at 0x7f162587c790>\n",
      "(None, 12, 9, 45)\n",
      "<tensorflow.python.keras.layers.convolutional.Conv2DTranspose object at 0x7f162587ca50>\n",
      "(None, 12, 9, 96)\n",
      "<tensorflow.python.keras.layers.advanced_activations.LeakyReLU object at 0x7f162587ce90>\n",
      "(None, 12, 9, 96)\n",
      "<tensorflow.python.keras.layers.core.Dropout object at 0x7f1714090450>\n",
      "(None, 12, 9, 96)\n",
      "<tensorflow.python.keras.layers.convolutional.UpSampling2D object at 0x7f1625874390>\n",
      "(None, 24, 9, 96)\n",
      "<tensorflow.python.keras.layers.core.Flatten object at 0x7f1625874690>\n",
      "(None, 20736)\n",
      "<tensorflow_probability.python.layers.distribution_layer.IndependentBernoulli object at 0x7f16258748d0>\n",
      "(None, 96, 216, 1) (None, 96, 216, 1)\n"
     ]
    }
   ],
   "source": [
    "## Run this cell if you wish to review the decoder layer by layer\n",
    "for layer in decoder.layers:\n",
    "    print (layer)\n",
    "    if (type(layer.output) is tuple):\n",
    "        print (layer.output[0].shape, layer.output[1].shape)\n",
    "    else:\n",
    "        print (layer.output.shape)"
   ]
  },
  {
   "cell_type": "markdown",
   "metadata": {},
   "source": [
    "## Step 6: Compile the VAE"
   ]
  },
  {
   "cell_type": "code",
   "execution_count": 12,
   "metadata": {},
   "outputs": [],
   "source": [
    "vae = keras.Model(inputs=encoder.inputs,outputs=decoder(encoder.outputs[0]))\n",
    "negative_log_likelihood = lambda x, rv_x: -rv_x.log_prob(x)\n",
    "vae.compile(optimizer=tf.optimizers.Adam(learning_rate=5e-4), loss=negative_log_likelihood)"
   ]
  },
  {
   "cell_type": "markdown",
   "metadata": {},
   "source": [
    "## Step 7: Training (and validating) the VAE"
   ]
  },
  {
   "cell_type": "code",
   "execution_count": 72,
   "metadata": {},
   "outputs": [
    {
     "name": "stdout",
     "output_type": "stream",
     "text": [
      "Epoch 1/40\n",
      "1001/1001 [==============================] - 37s 37ms/step - loss: 14069.9697 - val_loss: 14032.2578\n",
      "Epoch 2/40\n",
      "1001/1001 [==============================] - 36s 36ms/step - loss: 14005.4502 - val_loss: 13997.9316\n",
      "Epoch 3/40\n",
      "1001/1001 [==============================] - 35s 35ms/step - loss: 13999.3643 - val_loss: 14005.0654\n",
      "Epoch 4/40\n",
      "1001/1001 [==============================] - 34s 34ms/step - loss: 13996.2754 - val_loss: 14018.2920\n",
      "Epoch 5/40\n",
      "1001/1001 [==============================] - 35s 35ms/step - loss: 13993.7734 - val_loss: 13996.4775\n",
      "Epoch 6/40\n",
      "1001/1001 [==============================] - 35s 35ms/step - loss: 13992.0879 - val_loss: 13996.3486\n",
      "Epoch 7/40\n",
      "1001/1001 [==============================] - 36s 36ms/step - loss: 13991.6006 - val_loss: 13991.8672\n",
      "Epoch 8/40\n",
      "1001/1001 [==============================] - 35s 35ms/step - loss: 13990.8740 - val_loss: 13975.6221\n",
      "Epoch 9/40\n",
      "1001/1001 [==============================] - 35s 35ms/step - loss: 13990.8457 - val_loss: 13964.3652\n",
      "Epoch 10/40\n",
      "1001/1001 [==============================] - 36s 36ms/step - loss: 13990.5312 - val_loss: 13978.1973\n",
      "Epoch 11/40\n",
      "1001/1001 [==============================] - 37s 37ms/step - loss: 13990.3291 - val_loss: 13976.7705\n",
      "Epoch 12/40\n",
      "1001/1001 [==============================] - 36s 36ms/step - loss: 13990.0205 - val_loss: 13956.4121\n",
      "Epoch 13/40\n",
      "1001/1001 [==============================] - 38s 37ms/step - loss: 13989.8184 - val_loss: 13967.2109\n",
      "Epoch 14/40\n",
      "1001/1001 [==============================] - 37s 37ms/step - loss: 13989.9844 - val_loss: 13955.0449\n",
      "Epoch 15/40\n",
      "1001/1001 [==============================] - 37s 37ms/step - loss: 13989.6484 - val_loss: 13964.0352\n",
      "Epoch 16/40\n",
      "1001/1001 [==============================] - 38s 38ms/step - loss: 13989.5918 - val_loss: 13954.2754\n",
      "Epoch 17/40\n",
      "1001/1001 [==============================] - 38s 38ms/step - loss: 13989.4531 - val_loss: 13943.5527\n",
      "Epoch 18/40\n",
      "1001/1001 [==============================] - 37s 37ms/step - loss: 13989.5205 - val_loss: 13957.4785\n",
      "Epoch 19/40\n",
      "1001/1001 [==============================] - 37s 37ms/step - loss: 13989.4648 - val_loss: 13958.8438\n",
      "Epoch 20/40\n",
      "1001/1001 [==============================] - 38s 38ms/step - loss: 13989.5215 - val_loss: 13964.9004\n",
      "Epoch 21/40\n",
      "1001/1001 [==============================] - 37s 37ms/step - loss: 13989.2012 - val_loss: 13933.5508\n",
      "Epoch 22/40\n",
      "1001/1001 [==============================] - 37s 37ms/step - loss: 13989.3320 - val_loss: 13939.7188\n",
      "Epoch 23/40\n",
      "1001/1001 [==============================] - 36s 36ms/step - loss: 13989.0830 - val_loss: 13939.5928\n",
      "Epoch 24/40\n",
      "1001/1001 [==============================] - 36s 36ms/step - loss: 13989.2178 - val_loss: 13954.3398\n",
      "Epoch 25/40\n",
      "1001/1001 [==============================] - 37s 37ms/step - loss: 13989.0713 - val_loss: 13956.1260\n",
      "Epoch 26/40\n",
      "1001/1001 [==============================] - 37s 37ms/step - loss: 13989.1602 - val_loss: 13944.2812\n",
      "Epoch 27/40\n",
      "1001/1001 [==============================] - 38s 38ms/step - loss: 13988.9121 - val_loss: 13959.2021\n",
      "Epoch 28/40\n",
      "1001/1001 [==============================] - 38s 38ms/step - loss: 13989.0576 - val_loss: 13950.4072\n",
      "Epoch 29/40\n",
      "1001/1001 [==============================] - 37s 37ms/step - loss: 13988.7979 - val_loss: 13961.2998\n",
      "Epoch 30/40\n",
      "1001/1001 [==============================] - 38s 38ms/step - loss: 13988.7109 - val_loss: 13949.5332\n",
      "Epoch 31/40\n",
      "1001/1001 [==============================] - 37s 37ms/step - loss: 13988.7803 - val_loss: 13960.0186\n",
      "Epoch 32/40\n",
      "1001/1001 [==============================] - 38s 38ms/step - loss: 13989.0010 - val_loss: 13947.1631\n",
      "Epoch 33/40\n",
      "1001/1001 [==============================] - 38s 38ms/step - loss: 13988.6953 - val_loss: 13960.0576\n",
      "Epoch 34/40\n",
      "1001/1001 [==============================] - 37s 37ms/step - loss: 13988.7510 - val_loss: 13958.3818\n",
      "Epoch 35/40\n",
      "1001/1001 [==============================] - 37s 37ms/step - loss: 13988.5674 - val_loss: 13947.0371\n",
      "Epoch 36/40\n",
      "1001/1001 [==============================] - 37s 37ms/step - loss: 13988.6758 - val_loss: 13955.4893\n",
      "Epoch 37/40\n",
      "1001/1001 [==============================] - 37s 37ms/step - loss: 13988.7969 - val_loss: 13946.0098\n",
      "Epoch 38/40\n",
      "1001/1001 [==============================] - 37s 37ms/step - loss: 13988.6387 - val_loss: 13952.3604\n",
      "Epoch 39/40\n",
      "1001/1001 [==============================] - 38s 37ms/step - loss: 13988.6973 - val_loss: 13939.7607\n",
      "Epoch 40/40\n",
      "1001/1001 [==============================] - 38s 38ms/step - loss: 13988.3047 - val_loss: 13960.0957\n"
     ]
    }
   ],
   "source": [
    "history = vae.fit(train_dataset, batch_size = 5, epochs = 40, validation_data = (valid_dataset), shuffle = True)"
   ]
  },
  {
   "cell_type": "markdown",
   "metadata": {},
   "source": [
    "## Step 8: Plotting the losses"
   ]
  },
  {
   "cell_type": "code",
   "execution_count": 73,
   "metadata": {},
   "outputs": [
    {
     "data": {
      "image/png": "[encoded data removed]",
      "text/plain": [
       "<Figure size 432x288 with 1 Axes>"
      ]
     },
     "metadata": {
      "needs_background": "light"
     },
     "output_type": "display_data"
    }
   ],
   "source": [
    "#Plot train/validation loss vs epoch\n",
    "\n",
    "plt.plot(history.history['loss'])\n",
    "plt.plot(history.history['val_loss'])\n",
    "plt.title('model loss')\n",
    "plt.ylabel('loss')\n",
    "plt.xlabel('epoch')\n",
    "plt.legend(['train', 'validation'], loc='upper left')\n",
    "plt.show()"
   ]
  },
  {
   "cell_type": "markdown",
   "metadata": {},
   "source": [
    "## Step 9: Saving the (weights of the) model and the training history"
   ]
  },
  {
   "cell_type": "code",
   "execution_count": 60,
   "metadata": {},
   "outputs": [],
   "source": [
    "models_path = '/datasets/home/21/321/ee228sp20ta1/G51/models-bose/'\n",
    "vae.save_weights(models_path+'vae_03')"
   ]
  },
  {
   "cell_type": "code",
   "execution_count": 61,
   "metadata": {},
   "outputs": [],
   "source": [
    "with open('VAE_03_trainHistoryDict.pkl', 'wb') as file_pi:\n",
    "    pickle.dump(history.history, file_pi)"
   ]
  },
  {
   "cell_type": "markdown",
   "metadata": {},
   "source": [
    "## Step 10: Visualize encoder-latent space-decoder"
   ]
  },
  {
   "cell_type": "code",
   "execution_count": 74,
   "metadata": {},
   "outputs": [],
   "source": [
    "mini_batch = s_valid_reshaped[:100]\n",
    "#print(mini_batch.shape)\n",
    "\n",
    "decoded_data = vae.predict(valid_dataset)\n",
    "#Obtain encoder representation of data\n",
    "get_hl = K.function([vae.layers[0].input], [vae.layers[12].output])\n",
    "AE_h1 = get_hl([mini_batch])[0]"
   ]
  },
  {
   "cell_type": "code",
   "execution_count": 75,
   "metadata": {},
   "outputs": [
    {
     "data": {
      "image/png": "[encoded data removed]",
      "text/plain": [
       "<Figure size 1440x288 with 12 Axes>"
      ]
     },
     "metadata": {
      "needs_background": "light"
     },
     "output_type": "display_data"
    }
   ],
   "source": [
    "#Plot samples of input images, their hidden layer representations, and their reconstructions\n",
    "n = 4  # how many digits we will display\n",
    "plt.figure(figsize=(20, 4))\n",
    "for i in range(n):\n",
    "    # display original\n",
    "    ax = plt.subplot(3, n, i + 1)\n",
    "    plt.imshow(s_valid_reshaped[i].reshape(96, 216))\n",
    "    plt.gray()\n",
    "    ax.get_xaxis().set_visible(False)\n",
    "    ax.get_yaxis().set_visible(False)\n",
    "\n",
    "    # display hidden layer representation\n",
    "    ax = plt.subplot(3, n, i + 1 + n)\n",
    "    plt.imshow(AE_h1[i].reshape(72, 72)) # Will have to reshape if you change the latent dimensionality\n",
    "    plt.gray()\n",
    "    ax.get_xaxis().set_visible(False)\n",
    "    ax.get_yaxis().set_visible(False)\n",
    "\n",
    "    # display reconstruction\n",
    "    ax = plt.subplot(3, n, i + 1 + n + n)\n",
    "    plt.imshow(decoded_data[i].reshape(96, 216))\n",
    "    plt.gray()\n",
    "    ax.get_xaxis().set_visible(False)\n",
    "    ax.get_yaxis().set_visible(False)\n",
    "plt.show()"
   ]
  },
  {
   "cell_type": "markdown",
   "metadata": {},
   "source": [
    "## Community Detection based on Autoencoder results"
   ]
  },
  {
   "cell_type": "markdown",
   "metadata": {},
   "source": [
    "### Step 1: Loading in Community Labels"
   ]
  },
  {
   "cell_type": "code",
   "execution_count": 13,
   "metadata": {},
   "outputs": [],
   "source": [
    "with open('val_communities_10.json') as json_file:\n",
    "    community_labels = json.load(json_file)"
   ]
  },
  {
   "cell_type": "code",
   "execution_count": 19,
   "metadata": {},
   "outputs": [],
   "source": [
    "val_set = s_valid_reshaped"
   ]
  },
  {
   "cell_type": "code",
   "execution_count": 15,
   "metadata": {},
   "outputs": [],
   "source": [
    "val_ids_path = '/datasets/home/21/321/ee228sp20ta1/G51/val_ids.txt'"
   ]
  },
  {
   "cell_type": "markdown",
   "metadata": {},
   "source": [
    "### Step 2: Loading in IDs of songs in the validation set"
   ]
  },
  {
   "cell_type": "code",
   "execution_count": 16,
   "metadata": {},
   "outputs": [],
   "source": [
    "f=open(val_ids_path, \"r\")\n",
    "val_spec_ids = f.read()\n",
    "val_spec_labels = val_spec_ids.split('\\n')\n",
    "# type(val_spec_labels)"
   ]
  },
  {
   "cell_type": "markdown",
   "metadata": {},
   "source": [
    "### Step 3: Loading in the weights of the VAE"
   ]
  },
  {
   "cell_type": "code",
   "execution_count": 18,
   "metadata": {},
   "outputs": [
    {
     "data": {
      "text/plain": [
       "<tensorflow.python.training.tracking.util.CheckpointLoadStatus at 0x7f1625a67710>"
      ]
     },
     "execution_count": 18,
     "metadata": {},
     "output_type": "execute_result"
    }
   ],
   "source": [
    "models_path = '/datasets/home/21/321/ee228sp20ta1/G51/models-bose/'\n",
    "vae.load_weights(models_path+'vae_03')"
   ]
  },
  {
   "cell_type": "markdown",
   "metadata": {},
   "source": [
    "### Step 4: Create batches of validation spectrograms"
   ]
  },
  {
   "cell_type": "code",
   "execution_count": 24,
   "metadata": {},
   "outputs": [],
   "source": [
    "ds = data_source.ArrayDataSource([val_set])\n",
    "\n",
    "latent_vecs = []\n",
    "\n",
    "get_hl = K.function([vae.layers[0].input], [vae.layers[12].output])\n",
    "\n",
    "for batch in ds.batch_iterator(batch_size=64, shuffle=False):\n",
    "    \n",
    "    AE_h1 = get_hl([batch])[0]\n",
    "    latent_vecs.append(AE_h1)\n",
    "    \n",
    "latent_vecs = np.array(latent_vecs)\n",
    "\n",
    "latent_vecs = np.concatenate(latent_vecs)\n",
    "#print(latent_vecs.shape)"
   ]
  },
  {
   "cell_type": "code",
   "execution_count": 25,
   "metadata": {},
   "outputs": [],
   "source": [
    "latent_vectors = np.ndarray(shape=(2763,72,72))\n",
    "\n",
    "for idx, spec in enumerate(val_set):\n",
    "    latent_vec = latent_vecs[idx].reshape(72, 72)\n",
    "    latent_vectors[idx] = latent_vec\n",
    "    \n",
    "# print(latent_vectors.shape)"
   ]
  },
  {
   "cell_type": "code",
   "execution_count": 26,
   "metadata": {},
   "outputs": [],
   "source": [
    "reshaped_latent_vectors = latent_vectors.reshape(2763,5184)"
   ]
  },
  {
   "cell_type": "markdown",
   "metadata": {},
   "source": [
    "### Step 5: Run K-means clustering"
   ]
  },
  {
   "cell_type": "code",
   "execution_count": 27,
   "metadata": {},
   "outputs": [
    {
     "name": "stdout",
     "output_type": "stream",
     "text": [
      "Initialization complete\n",
      "start iteration\n",
      "done sorting\n",
      "end inner loop\n",
      "Iteration 0, inertia 0.00011138183669223525\n",
      "start iteration\n",
      "done sorting\n",
      "end inner loop\n",
      "Iteration 1, inertia 3.905636154434076e-05\n",
      "start iteration\n",
      "done sorting\n",
      "end inner loop\n",
      "Iteration 2, inertia 3.905636154434076e-05\n",
      "center shift 0.000000e+00 within tolerance 7.776219e-16\n",
      "Initialization complete\n",
      "start iteration\n",
      "done sorting\n",
      "end inner loop\n",
      "Iteration 0, inertia 0.00011138183669223525\n",
      "start iteration\n",
      "done sorting\n",
      "end inner loop\n",
      "Iteration 1, inertia 3.905636154434076e-05\n",
      "start iteration\n",
      "done sorting\n",
      "end inner loop\n",
      "Iteration 2, inertia 3.905636154434076e-05\n",
      "center shift 0.000000e+00 within tolerance 7.776219e-16\n",
      "Initialization complete\n",
      "start iteration\n",
      "done sorting\n",
      "end inner loop\n",
      "Iteration 0, inertia 0.00010796224135078573\n",
      "start iteration\n",
      "done sorting\n",
      "end inner loop\n",
      "Iteration 1, inertia 3.905636154434076e-05\n",
      "start iteration\n",
      "done sorting\n",
      "end inner loop\n",
      "Iteration 2, inertia 3.905636154434076e-05\n",
      "center shift 0.000000e+00 within tolerance 7.776219e-16\n",
      "Initialization complete\n",
      "start iteration\n",
      "done sorting\n",
      "end inner loop\n",
      "Iteration 0, inertia 0.00010807913379615544\n",
      "start iteration\n",
      "done sorting\n",
      "end inner loop\n",
      "Iteration 1, inertia 3.6978761022144415e-05\n",
      "start iteration\n",
      "done sorting\n",
      "end inner loop\n",
      "Iteration 2, inertia 3.6942947996775284e-05\n",
      "start iteration\n",
      "done sorting\n",
      "end inner loop\n",
      "Iteration 3, inertia 3.692420252809287e-05\n",
      "start iteration\n",
      "done sorting\n",
      "end inner loop\n",
      "Iteration 4, inertia 3.692420252809287e-05\n",
      "center shift 0.000000e+00 within tolerance 7.776219e-16\n",
      "Initialization complete\n",
      "start iteration\n",
      "done sorting\n",
      "end inner loop\n",
      "Iteration 0, inertia 0.00010669537310715053\n",
      "start iteration\n",
      "done sorting\n",
      "end inner loop\n",
      "Iteration 1, inertia 3.7027718594188355e-05\n",
      "start iteration\n",
      "done sorting\n",
      "end inner loop\n",
      "Iteration 2, inertia 3.7027718594188355e-05\n",
      "center shift 0.000000e+00 within tolerance 7.776219e-16\n",
      "Initialization complete\n",
      "start iteration\n",
      "done sorting\n",
      "end inner loop\n",
      "Iteration 0, inertia 0.00010535696607267119\n",
      "start iteration\n",
      "done sorting\n",
      "end inner loop\n",
      "Iteration 1, inertia 3.646584782242255e-05\n",
      "start iteration\n",
      "done sorting\n",
      "end inner loop\n",
      "Iteration 2, inertia 3.646584782242255e-05\n",
      "center shift 0.000000e+00 within tolerance 7.776219e-16\n",
      "Initialization complete\n",
      "start iteration\n",
      "done sorting\n",
      "end inner loop\n",
      "Iteration 0, inertia 0.00010701750472392962\n",
      "start iteration\n",
      "done sorting\n",
      "end inner loop\n",
      "Iteration 1, inertia 3.905636154434076e-05\n",
      "start iteration\n",
      "done sorting\n",
      "end inner loop\n",
      "Iteration 2, inertia 3.905636154434076e-05\n",
      "center shift 0.000000e+00 within tolerance 7.776219e-16\n",
      "Initialization complete\n",
      "start iteration\n",
      "done sorting\n",
      "end inner loop\n",
      "Iteration 0, inertia 0.0001081816518652502\n",
      "start iteration\n",
      "done sorting\n",
      "end inner loop\n",
      "Iteration 1, inertia 3.6978761022144415e-05\n",
      "start iteration\n",
      "done sorting\n",
      "end inner loop\n",
      "Iteration 2, inertia 3.6942947996775284e-05\n",
      "start iteration\n",
      "done sorting\n",
      "end inner loop\n",
      "Iteration 3, inertia 3.692420252809287e-05\n",
      "start iteration\n",
      "done sorting\n",
      "end inner loop\n",
      "Iteration 4, inertia 3.692420252809287e-05\n",
      "center shift 0.000000e+00 within tolerance 7.776219e-16\n",
      "Initialization complete\n",
      "start iteration\n",
      "done sorting\n",
      "end inner loop\n",
      "Iteration 0, inertia 0.00011138183669223525\n",
      "start iteration\n",
      "done sorting\n",
      "end inner loop\n",
      "Iteration 1, inertia 3.905636154434076e-05\n",
      "start iteration\n",
      "done sorting\n",
      "end inner loop\n",
      "Iteration 2, inertia 3.905636154434076e-05\n",
      "center shift 0.000000e+00 within tolerance 7.776219e-16\n",
      "Initialization complete\n",
      "start iteration\n",
      "done sorting\n",
      "end inner loop\n",
      "Iteration 0, inertia 0.00011138183669223525\n",
      "start iteration\n",
      "done sorting\n",
      "end inner loop\n",
      "Iteration 1, inertia 3.905636154434076e-05\n",
      "start iteration\n",
      "done sorting\n",
      "end inner loop\n",
      "Iteration 2, inertia 3.905636154434076e-05\n",
      "center shift 0.000000e+00 within tolerance 7.776219e-16\n"
     ]
    }
   ],
   "source": [
    "kmeans = KMeans(n_clusters=10, init='random', verbose =1).fit(reshaped_latent_vectors)"
   ]
  },
  {
   "cell_type": "markdown",
   "metadata": {},
   "source": [
    "### Step 6: Sort and align K-means labels and Community labels"
   ]
  },
  {
   "cell_type": "code",
   "execution_count": 29,
   "metadata": {},
   "outputs": [
    {
     "data": {
      "text/plain": [
       "True"
      ]
     },
     "execution_count": 29,
     "metadata": {},
     "output_type": "execute_result"
    }
   ],
   "source": [
    "labels = kmeans.predict(reshaped_latent_vectors)\n",
    "kmeans_labels = dict()\n",
    "for idx, label in zip(val_spec_labels, labels):\n",
    "    kmeans_labels[idx] = label\n",
    "\n",
    "sorted_kmeans_labels = dict(sorted(kmeans_labels.items()))\n",
    "\n",
    "sorted_community_labels = dict(sorted(community_labels.items()))\n",
    "\n",
    "#This should be True\n",
    "sorted_community_labels.keys() == sorted_kmeans_labels.keys()"
   ]
  },
  {
   "cell_type": "markdown",
   "metadata": {},
   "source": [
    "### Step 7: Plot Community matrix"
   ]
  },
  {
   "cell_type": "code",
   "execution_count": 31,
   "metadata": {},
   "outputs": [],
   "source": [
    "def heatmap(data, row_labels, col_labels, ax=None,\n",
    "            cbar_kw={}, cbarlabel=\"\", **kwargs):\n",
    "    \"\"\"\n",
    "    Create a heatmap from a numpy array and two lists of labels.\n",
    "\n",
    "    Parameters\n",
    "    ----------\n",
    "    data\n",
    "        A 2D numpy array of shape (N, M).\n",
    "    row_labels\n",
    "        A list or array of length N with the labels for the rows.\n",
    "    col_labels\n",
    "        A list or array of length M with the labels for the columns.\n",
    "    ax\n",
    "        A `matplotlib.axes.Axes` instance to which the heatmap is plotted.  If\n",
    "        not provided, use current axes or create a new one.  Optional.\n",
    "    cbar_kw\n",
    "        A dictionary with arguments to `matplotlib.Figure.colorbar`.  Optional.\n",
    "    cbarlabel\n",
    "        The label for the colorbar.  Optional.\n",
    "    **kwargs\n",
    "        All other arguments are forwarded to `imshow`.\n",
    "    \"\"\"\n",
    "\n",
    "    if not ax:\n",
    "        ax = plt.gca()\n",
    "\n",
    "    # Plot the heatmap\n",
    "    im = ax.imshow(data, **kwargs)\n",
    "\n",
    "    # Create colorbar\n",
    "    cbar = ax.figure.colorbar(im, ax=ax, **cbar_kw)\n",
    "    cbar.ax.set_ylabel(cbarlabel, rotation=-90, va=\"bottom\")\n",
    "\n",
    "    # We want to show all ticks...\n",
    "    ax.set_xticks(np.arange(data.shape[1]))\n",
    "    ax.set_yticks(np.arange(data.shape[0]))\n",
    "    # ... and label them with the respective list entries.\n",
    "    ax.set_xticklabels(col_labels)\n",
    "    ax.set_yticklabels(row_labels)\n",
    "\n",
    "    # Let the horizontal axes labeling appear on top.\n",
    "    ax.tick_params(top=True, bottom=False,\n",
    "                   labeltop=True, labelbottom=False)\n",
    "\n",
    "    # Rotate the tick labels and set their alignment.\n",
    "    plt.setp(ax.get_xticklabels(), rotation=-30, ha=\"right\",\n",
    "             rotation_mode=\"anchor\")\n",
    "\n",
    "    # Turn spines off and create white grid.\n",
    "    for edge, spine in ax.spines.items():\n",
    "        spine.set_visible(False)\n",
    "\n",
    "    ax.set_xticks(np.arange(data.shape[1]+1)-.5, minor=True)\n",
    "    ax.set_yticks(np.arange(data.shape[0]+1)-.5, minor=True)\n",
    "    ax.grid(which=\"minor\", color=\"w\", linestyle='-', linewidth=3)\n",
    "    ax.tick_params(which=\"minor\", bottom=False, left=False)\n",
    "\n",
    "    return im, cbar"
   ]
  },
  {
   "cell_type": "code",
   "execution_count": 44,
   "metadata": {},
   "outputs": [],
   "source": [
    "import matplotlib"
   ]
  },
  {
   "cell_type": "code",
   "execution_count": 45,
   "metadata": {},
   "outputs": [],
   "source": [
    "def annotate_heatmap(im, data=None, valfmt=\"{x:.2f}\",\n",
    "                     textcolors=(\"black\", \"white\"),\n",
    "                     threshold=None, **textkw):\n",
    "    \"\"\"\n",
    "    A function to annotate a heatmap.\n",
    "\n",
    "    Parameters\n",
    "    ----------\n",
    "    im\n",
    "        The AxesImage to be labeled.\n",
    "    data\n",
    "        Data used to annotate.  If None, the image's data is used.  Optional.\n",
    "    valfmt\n",
    "        The format of the annotations inside the heatmap.  This should either\n",
    "        use the string format method, e.g. \"$ {x:.2f}\", or be a\n",
    "        `matplotlib.ticker.Formatter`.  Optional.\n",
    "    textcolors\n",
    "        A pair of colors.  The first is used for values below a threshold,\n",
    "        the second for those above.  Optional.\n",
    "    threshold\n",
    "        Value in data units according to which the colors from textcolors are\n",
    "        applied.  If None (the default) uses the middle of the colormap as\n",
    "        separation.  Optional.\n",
    "    **kwargs\n",
    "        All other arguments are forwarded to each call to `text` used to create\n",
    "        the text labels.\n",
    "    \"\"\"\n",
    "\n",
    "    if not isinstance(data, (list, np.ndarray)):\n",
    "        data = im.get_array()\n",
    "\n",
    "    # Normalize the threshold to the images color range.\n",
    "    if threshold is not None:\n",
    "        threshold = im.norm(threshold)\n",
    "    else:\n",
    "        threshold = im.norm(data.max())/2.\n",
    "\n",
    "    # Set default alignment to center, but allow it to be\n",
    "    # overwritten by textkw.\n",
    "    kw = dict(horizontalalignment=\"center\",\n",
    "              verticalalignment=\"center\")\n",
    "    kw.update(textkw)\n",
    "\n",
    "    # Get the formatter in case a string is supplied\n",
    "    if isinstance(valfmt, str):\n",
    "        valfmt = matplotlib.ticker.StrMethodFormatter(valfmt)\n",
    "\n",
    "    # Loop over the data and create a `Text` for each \"pixel\".\n",
    "    # Change the text's color depending on the data.\n",
    "    texts = []\n",
    "    for i in range(data.shape[0]):\n",
    "        for j in range(data.shape[1]):\n",
    "            kw.update(color=textcolors[int(im.norm(data[i, j]) > threshold)])\n",
    "            text = im.axes.text(j, i, valfmt(data[i, j], None), **kw)\n",
    "            texts.append(text)\n",
    "\n",
    "    return texts"
   ]
  },
  {
   "cell_type": "code",
   "execution_count": 46,
   "metadata": {},
   "outputs": [
    {
     "data": {
      "text/plain": [
       "'im, cbar = heatmap(mat.T, community, kmeanclusters, square=False, annot=True, fmt=\\'d\\', cbar=False, cmap=\"YlGnBu\", ax=ax)\\nplt.xlabel(\\'igraph communities\\')\\nplt.ylabel(\\'kmean cluster\\');'"
      ]
     },
     "execution_count": 46,
     "metadata": {},
     "output_type": "execute_result"
    },
    {
     "data": {
      "image/png": "[encoded data removed]",
      "text/plain": [
       "<Figure size 864x864 with 2 Axes>"
      ]
     },
     "metadata": {
      "needs_background": "light"
     },
     "output_type": "display_data"
    }
   ],
   "source": [
    "from sklearn.metrics import confusion_matrix\n",
    "#import seaborn as sns\n",
    "\n",
    "#s.set_context(\"paper\")\n",
    "\n",
    "labels = kmeans.labels_\n",
    "community = list(sorted_community_labels.values())\n",
    "kmeanclusters = list(sorted_kmeans_labels.values())\n",
    "\n",
    "mat = confusion_matrix(community, kmeanclusters)\n",
    "fig, ax = plt.subplots(figsize=(12,12))  \n",
    "\n",
    "im, cbar = heatmap(mat.T, community, kmeanclusters, ax)\n",
    "annotate_heatmap(im, mat.T)\n",
    "plt.xlabel('igraph communities')\n",
    "plt.ylabel('kmean cluster')\n",
    "\n",
    "#im, cbar = heatmap(mat.T, community, kmeanclusters, square=False, annot=True, fmt='d', cbar=False, cmap=\"YlGnBu\", ax=ax)"
   ]
  },
  {
   "cell_type": "code",
   "execution_count": null,
   "metadata": {},
   "outputs": [],
   "source": []
  }
 ],
 "metadata": {
  "kernelspec": {
   "display_name": "py37-tf2",
   "language": "python",
   "name": "py37-tf2"
  },
  "language_info": {
   "codemirror_mode": {
    "name": "ipython",
    "version": 3
   },
   "file_extension": ".py",
   "mimetype": "text/x-python",
   "name": "python",
   "nbconvert_exporter": "python",
   "pygments_lexer": "ipython3",
   "version": "3.7.6"
  }
 },
 "nbformat": 4,
 "nbformat_minor": 2
}
