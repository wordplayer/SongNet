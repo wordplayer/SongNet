{
 "cells": [
  {
   "cell_type": "markdown",
   "metadata": {},
   "source": [
    "## Community Detection"
   ]
  },
  {
   "cell_type": "code",
   "execution_count": null,
   "metadata": {},
   "outputs": [],
   "source": [
    "# !pip install python-louvain\n",
    "# !pip install networkx\n",
    "# !pip install python-igraph"
   ]
  },
  {
   "cell_type": "code",
   "execution_count": 1,
   "metadata": {},
   "outputs": [
    {
     "name": "stdout",
     "output_type": "stream",
     "text": [
      "Populating the interactive namespace from numpy and matplotlib\n",
      "CPU times: user 1.3 s, sys: 1.94 s, total: 3.24 s\n",
      "Wall time: 1.61 s\n"
     ]
    }
   ],
   "source": [
    "%%time\n",
    "%pylab inline\n",
    "import networkx as nx\n",
    "import numpy as np\n",
    "import matplotlib \n",
    "import scipy\n",
    "import warnings\n",
    "\n",
    "import json \n",
    "\n",
    "import community as community_louvain\n",
    "import igraph\n",
    "\n",
    "import operator\n",
    "\n",
    "from PIL import Image\n",
    "from numpy import asarray\n",
    "from numpy import save\n",
    "from scipy import misc\n",
    "import glob\n",
    "\n",
    "import matplotlib.pyplot as plt\n",
    "from IPython.display import Image\n",
    "\n",
    "from tqdm import tqdm\n",
    "import time\n",
    "\n",
    "import os, os.path"
   ]
  },
  {
   "cell_type": "markdown",
   "metadata": {},
   "source": [
    "#### Code for Unzipping songnet compressed. Run once."
   ]
  },
  {
   "cell_type": "code",
   "execution_count": null,
   "metadata": {},
   "outputs": [],
   "source": [
    "# import gzip\n",
    "\n",
    "# #Define the file's location\n",
    "# file_path = './playlist-songnet-compressed.gz'\n",
    "\n",
    "# #Open the file and read its contents\n",
    "# with gzip.open(file_path, \"rb\") as file:\n",
    "#     file_content = file.read()\n",
    "\n",
    "\n",
    "# #Save the new txt file\n",
    "# txt_file_name = \"songnet.txt\"\n",
    "\n",
    "# with open(txt_file_name, \"w\") as file:\n",
    "#     file.write(file_content)\n",
    "\n",
    "# # import gzip\n",
    "# # with gzip.open('./playlist-songnet-compressed.gz', 'rb') as f, open('songnet.txt', 'w') as f_out:\n",
    "# #     f_out.write(f.read())"
   ]
  },
  {
   "cell_type": "markdown",
   "metadata": {},
   "source": [
    "### Load in Validation spectrograms and reduced_songnet"
   ]
  },
  {
   "cell_type": "code",
   "execution_count": 12,
   "metadata": {},
   "outputs": [],
   "source": [
    "val_path = '/datasets/home/21/321/ee228sp20ta1/G51/val_specs/'\n",
    "songnet_edgelist =\"./reduced_songnet.txt\""
   ]
  },
  {
   "cell_type": "code",
   "execution_count": 13,
   "metadata": {},
   "outputs": [
    {
     "name": "stdout",
     "output_type": "stream",
     "text": [
      "No. of nodes are= 4280\n",
      "No. of edges are= 429918\n"
     ]
    }
   ],
   "source": [
    "songs=nx.read_edgelist(songnet_edgelist,create_using=nx.DiGraph())\n",
    "node, edge=songs.order(),songs.size()\n",
    "print(\"No. of nodes are=\",node)\n",
    "print(\"No. of edges are=\",edge)"
   ]
  },
  {
   "cell_type": "markdown",
   "metadata": {},
   "source": [
    "### Helper function to find largest connected component"
   ]
  },
  {
   "cell_type": "code",
   "execution_count": 4,
   "metadata": {},
   "outputs": [],
   "source": [
    "def find_largest_component(generator):\n",
    "    sub_graphs = []\n",
    "    for item in generator:\n",
    "        sub_graphs.append(item)\n",
    "\n",
    "    list_of_all_subgraphs = [(graph, len(graph.nodes)) for graph in sub_graphs]\n",
    "\n",
    "    largest_count = 0\n",
    "    for i in range(len(list_of_all_subgraphs)):\n",
    "        count = list_of_all_subgraphs[i][1]\n",
    "        if count > largest_count:\n",
    "            largest_count = count\n",
    "            largest_component = list_of_all_subgraphs[i][0]\n",
    "    return largest_component"
   ]
  },
  {
   "cell_type": "markdown",
   "metadata": {},
   "source": [
    "### Find Largest Connected Component"
   ]
  },
  {
   "cell_type": "code",
   "execution_count": 5,
   "metadata": {},
   "outputs": [],
   "source": [
    "songs_ud = songs.to_undirected()\n",
    "songs_ud_components = nx.connected_component_subgraphs(songs_ud)\n",
    "songs_largest_component = find_largest_component(songs_ud_components)"
   ]
  },
  {
   "cell_type": "markdown",
   "metadata": {},
   "source": [
    "### Find All Song ID's in the spectrogram validation set"
   ]
  },
  {
   "cell_type": "code",
   "execution_count": 6,
   "metadata": {},
   "outputs": [
    {
     "name": "stderr",
     "output_type": "stream",
     "text": [
      "100%|██████████| 2763/2763 [00:00<00:00, 16915.33it/s]\n"
     ]
    }
   ],
   "source": [
    "songnet_ids = []\n",
    "for image_path in tqdm(glob.glob(val_path + \"/*.png\")):\n",
    "    \n",
    "    \n",
    "    # Load and collect song ids into list of strings\n",
    "    ID = os.path.basename(image_path).partition(\".png\")[0]\n",
    "\n",
    "    if ID in list(songs_largest_component.nodes):\n",
    "        \n",
    "        songnet_ids.append(ID)"
   ]
  },
  {
   "cell_type": "markdown",
   "metadata": {},
   "source": [
    "### Remove nodes from the network that aren't in the validation set"
   ]
  },
  {
   "cell_type": "code",
   "execution_count": 7,
   "metadata": {},
   "outputs": [],
   "source": [
    "remove_nodes = []\n",
    "\n",
    "for node in list(songs_largest_component.nodes):\n",
    "    \n",
    "    if node not in songnet_ids:\n",
    "        remove_nodes.append(node)\n",
    "        \n",
    "songs_largest_component.remove_nodes_from(remove_nodes)\n",
    "\n",
    "ids = list(songs_largest_component.nodes)"
   ]
  },
  {
   "cell_type": "code",
   "execution_count": null,
   "metadata": {},
   "outputs": [],
   "source": [
    "# path, dirs, files = next(os.walk(val_path))\n",
    "# file_count = len(files)\n",
    "# print(file_count)"
   ]
  },
  {
   "cell_type": "markdown",
   "metadata": {},
   "source": [
    "### Optional: Run Community_louvain"
   ]
  },
  {
   "cell_type": "code",
   "execution_count": null,
   "metadata": {},
   "outputs": [],
   "source": [
    "#songs_community = community_louvain.best_partition(songs_largest_component)\n",
    "# songs_sorted = sorted_x = sorted(songs_community.items(), key=operator.itemgetter(1))\n",
    "# songs_coms = dict(songs_sorted)\n",
    "\n",
    "#Save out community detection with louvain method\n",
    "# json = json.dumps(songs_coms)\n",
    "# f = open(\"val_communities_1.json\",\"w\")\n",
    "# f.write(json)\n",
    "# f.close()"
   ]
  },
  {
   "cell_type": "markdown",
   "metadata": {},
   "source": [
    "### Optional: Compute Node Degrees"
   ]
  },
  {
   "cell_type": "code",
   "execution_count": 27,
   "metadata": {},
   "outputs": [],
   "source": [
    "songs_ud_degrees = songs_largest_component.degree()\n",
    "songs_ud_degrees = dict(songs_ud_degrees)"
   ]
  },
  {
   "cell_type": "markdown",
   "metadata": {},
   "source": [
    "### Save out largest connected component\n",
    "\n",
    "### This is necessary for loading the network into the igraph module below"
   ]
  },
  {
   "cell_type": "code",
   "execution_count": 28,
   "metadata": {},
   "outputs": [],
   "source": [
    "# nx.set_node_attributes(songs_largest_component, songs_coms, \"community\")\n",
    "nx.set_node_attributes(songs_largest_component, songs_ud_degrees, \"degrees\")\n",
    "# # nx.set_node_attributes(songs_largest_component, song_partitions, \"partitions\")"
   ]
  },
  {
   "cell_type": "code",
   "execution_count": 29,
   "metadata": {},
   "outputs": [],
   "source": [
    "nx.write_gml(songs_largest_component, \"songnet_lc.gml\")"
   ]
  },
  {
   "cell_type": "markdown",
   "metadata": {},
   "source": [
    "### Run igraph community Detection\n",
    "\n",
    "### First, define number of communities, for example as informed by optimal number of clusters analysis on spectrogram latent vectors in notebook 04"
   ]
  },
  {
   "cell_type": "code",
   "execution_count": 30,
   "metadata": {},
   "outputs": [],
   "source": [
    "n_communities  = 3"
   ]
  },
  {
   "cell_type": "code",
   "execution_count": 36,
   "metadata": {},
   "outputs": [],
   "source": [
    "songs_lc = igraph.read('songnet_lc.gml', format=\"gml\")\n",
    "song_ptns = songs_lc.community_leading_eigenvector(clusters=3)\n",
    "song_partitions = {}\n",
    "\n",
    "for cluster in range(len(song_ptns)):\n",
    "    for node in song_ptns[cluster]:\n",
    "        idx = ids[node]\n",
    "        song_partitions[idx] = cluster"
   ]
  },
  {
   "cell_type": "code",
   "execution_count": 35,
   "metadata": {},
   "outputs": [],
   "source": [
    "# If minimum computed_number_of_communities > optimal number of kmeans clusters,\n",
    "# will have to make a compromise: (rerun kmeans with k = minimum # of communities)\n",
    "# Alternatively, Explore Kmeans optimal k versus various # of communities"
   ]
  },
  {
   "cell_type": "code",
   "execution_count": 38,
   "metadata": {
    "scrolled": true
   },
   "outputs": [
    {
     "name": "stdout",
     "output_type": "stream",
     "text": [
      "4\n"
     ]
    }
   ],
   "source": [
    "computed_number_of_communities = max(song_partitions.values())\n",
    "\n",
    "# This number should equal n_communities\n",
    "print(computed_number_of_communities + 1)"
   ]
  },
  {
   "cell_type": "markdown",
   "metadata": {},
   "source": [
    "### Save out igraph communities as JSON"
   ]
  },
  {
   "cell_type": "code",
   "execution_count": 11,
   "metadata": {},
   "outputs": [],
   "source": [
    "# Save out community detection with igraph\n",
    "json = json.dumps(song_partitions)\n",
    "f = open(\"val_communities_3.json\",\"w\")\n",
    "f.write(json)\n",
    "f.close()"
   ]
  },
  {
   "cell_type": "markdown",
   "metadata": {},
   "source": [
    "### Optional: Save out to format for Gephi Visualizer software"
   ]
  },
  {
   "cell_type": "code",
   "execution_count": null,
   "metadata": {},
   "outputs": [],
   "source": [
    "# nx.set_node_attributes(songs_largest_component, songs_coms, \"community\")\n",
    "# nx.set_node_attributes(songs_largest_component, songs_ud_degrees, \"degrees\")\n",
    "# nx.set_node_attributes(songs_largest_component, song_partitions, \"partitions\")\n",
    "# nx.write_gml(songs_largest_component, \"songnet_lc.gml\")"
   ]
  },
  {
   "cell_type": "markdown",
   "metadata": {},
   "source": [
    "### Optional: Plot Communities"
   ]
  },
  {
   "cell_type": "code",
   "execution_count": null,
   "metadata": {},
   "outputs": [],
   "source": [
    "#Image(filename = \"SongNet_Communities.png\")"
   ]
  }
 ],
 "metadata": {
  "kernelspec": {
   "display_name": "Python 3",
   "language": "python",
   "name": "python3"
  },
  "language_info": {
   "codemirror_mode": {
    "name": "ipython",
    "version": 3
   },
   "file_extension": ".py",
   "mimetype": "text/x-python",
   "name": "python",
   "nbconvert_exporter": "python",
   "pygments_lexer": "ipython3",
   "version": "3.7.3"
  }
 },
 "nbformat": 4,
 "nbformat_minor": 2
}
